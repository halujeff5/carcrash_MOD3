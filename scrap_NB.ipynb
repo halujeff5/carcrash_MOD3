{
 "cells": [
  {
   "cell_type": "code",
   "execution_count": 148,
   "metadata": {},
   "outputs": [],
   "source": [
    "import numpy as np\n",
    "import pandas as pd\n",
    "import seaborn as sns\n",
    "import matplotlib.pyplot as plt\n",
    "%matplotlib inline\n",
    "from sklearn.model_selection import train_test_split\n",
    "from sklearn.tree import DecisionTreeClassifier \n",
    "from sklearn.metrics import accuracy_score\n",
    "from sklearn.metrics import precision_score\n",
    "from sklearn.metrics import f1_score\n",
    "from sklearn.metrics import recall_score\n",
    "from sklearn.metrics import confusion_matrix\n"
   ]
  },
  {
   "cell_type": "code",
   "execution_count": 36,
   "metadata": {},
   "outputs": [
    {
     "name": "stderr",
     "output_type": "stream",
     "text": [
      "/Users/jeffreyng/anaconda3/lib/python3.7/site-packages/IPython/core/interactiveshell.py:3058: DtypeWarning: Columns (12,13,20,21,22,23,24,25,26,27,29) have mixed types. Specify dtype option on import or set low_memory=False.\n",
      "  interactivity=interactivity, compiler=compiler, result=result)\n",
      "/Users/jeffreyng/anaconda3/lib/python3.7/site-packages/IPython/core/interactiveshell.py:3058: DtypeWarning: Columns (8,19,21,40,41,42,43,44,45,46,47,48,49,50,51,52,54,55,56,57,58,59,60,61,66,67,68,69,70,71) have mixed types. Specify dtype option on import or set low_memory=False.\n",
      "  interactivity=interactivity, compiler=compiler, result=result)\n"
     ]
    }
   ],
   "source": [
    "df=pd.read_csv('Traffic_Crashes_-_Crashes.csv')\n",
    "df1=pd.read_csv('Traffic_Crashes_-_People.csv')\n",
    "df2=pd.read_csv('Traffic_Crashes_-_Vehicles.csv')"
   ]
  },
  {
   "cell_type": "code",
   "execution_count": 37,
   "metadata": {},
   "outputs": [],
   "source": [
    "result=pd.merge(df, df1, on=['CRASH_RECORD_ID'], how = 'inner')"
   ]
  },
  {
   "cell_type": "code",
   "execution_count": 38,
   "metadata": {},
   "outputs": [],
   "source": [
    "result=pd.merge(result, df2, on=['CRASH_RECORD_ID'], how = 'inner')"
   ]
  },
  {
   "cell_type": "code",
   "execution_count": 39,
   "metadata": {},
   "outputs": [],
   "source": [
    "result.drop_duplicates(subset='CRASH_RECORD_ID', inplace=True)"
   ]
  },
  {
   "cell_type": "code",
   "execution_count": 40,
   "metadata": {},
   "outputs": [],
   "source": [
    "result.drop(['CARGO_BODY_TYPE', 'LOAD_TYPE', 'HAZMAT_OUT_OF_SERVICE_I'], axis=1, inplace=True)"
   ]
  },
  {
   "cell_type": "code",
   "execution_count": 41,
   "metadata": {},
   "outputs": [],
   "source": [
    "result.drop([ 'AXLE_CNT',\n",
    " 'VEHICLE_CONFIG',\n",
    " 'MCS_OUT_OF_SERVICE_I',\n",
    " 'HAZMAT_CLASS'], axis=1, inplace=True)"
   ]
  },
  {
   "cell_type": "code",
   "execution_count": 42,
   "metadata": {},
   "outputs": [],
   "source": [
    "result= result.drop(['AREA_00_I',\n",
    " 'AREA_01_I',\n",
    " 'AREA_02_I',\n",
    " 'AREA_03_I',\n",
    " 'AREA_04_I',\n",
    " 'AREA_05_I',\n",
    " 'AREA_06_I',\n",
    " 'AREA_07_I',\n",
    " 'AREA_08_I',\n",
    " 'AREA_09_I',\n",
    " 'AREA_10_I',\n",
    " 'AREA_11_I',\n",
    " 'AREA_12_I',\n",
    " 'AREA_99_I',\n",
    " 'FIRST_CONTACT_POINT',\n",
    " 'CMV_ID',\n",
    " 'USDOT_NO',\n",
    " 'CCMC_NO',\n",
    " 'ILCC_NO',\n",
    " 'COMMERCIAL_SRC',\n",
    " 'GVWR',\n",
    " 'CARRIER_NAME',\n",
    " 'CARRIER_STATE',\n",
    " 'CARRIER_CITY'], axis=1)"
   ]
  },
  {
   "cell_type": "code",
   "execution_count": 43,
   "metadata": {},
   "outputs": [],
   "source": [
    "result=result.drop(['TRAVEL_DIRECTION',\n",
    " 'MANEUVER',\n",
    " 'TOWED_I',\n",
    " 'FIRE_I',\n",
    " 'OCCUPANT_CNT',\n",
    " 'EXCEED_SPEED_LIMIT_I',\n",
    " 'TOWED_BY',\n",
    " 'TOWED_TO'], axis=1)"
   ]
  },
  {
   "cell_type": "code",
   "execution_count": 44,
   "metadata": {},
   "outputs": [
    {
     "data": {
      "text/plain": [
       "NO INDICATION OF INJURY     358358\n",
       "NONINCAPACITATING INJURY     27465\n",
       "REPORTED, NOT EVIDENT        16026\n",
       "INCAPACITATING INJURY         6322\n",
       "FATAL                          351\n",
       "Name: MOST_SEVERE_INJURY, dtype: int64"
      ]
     },
     "execution_count": 44,
     "metadata": {},
     "output_type": "execute_result"
    }
   ],
   "source": [
    "result['MOST_SEVERE_INJURY'].value_counts()"
   ]
  },
  {
   "cell_type": "code",
   "execution_count": 11,
   "metadata": {},
   "outputs": [],
   "source": [
    "# result['MOST_SEVERE_INJURY'].map({'NO INDICATION OF INJURY':1, 'NO INDICATION OF INJURY':2,  })"
   ]
  },
  {
   "cell_type": "code",
   "execution_count": 47,
   "metadata": {},
   "outputs": [],
   "source": [
    "result['INJURY_CLASSIFICATION']=result['INJURY_CLASSIFICATION'].map({'NO INDICATION OF INJURY': 0,\n",
    "                                        'NONINCAPACITATING INJURY':1,\n",
    "                                        'REPORTED, NOT EVIDENT': 1,\n",
    "                                        'INCAPAPACITATING INJURY': 2,\n",
    "                                        'FATAL': 2})"
   ]
  },
  {
   "cell_type": "code",
   "execution_count": 53,
   "metadata": {},
   "outputs": [
    {
     "data": {
      "text/plain": [
       "(408529,)"
      ]
     },
     "execution_count": 53,
     "metadata": {},
     "output_type": "execute_result"
    }
   ],
   "source": [
    "result['INJURY_CLASSIFICATION'].shape"
   ]
  },
  {
   "cell_type": "code",
   "execution_count": 49,
   "metadata": {},
   "outputs": [],
   "source": [
    "df4=result['AGE'].replace(-49, 49)"
   ]
  },
  {
   "cell_type": "code",
   "execution_count": 50,
   "metadata": {},
   "outputs": [],
   "source": [
    "df4=result['AGE'].dropna(inplace=True)"
   ]
  },
  {
   "cell_type": "code",
   "execution_count": 51,
   "metadata": {},
   "outputs": [
    {
     "data": {
      "text/plain": [
       "<matplotlib.axes._subplots.AxesSubplot at 0x7fbd0a4efc50>"
      ]
     },
     "execution_count": 51,
     "metadata": {},
     "output_type": "execute_result"
    },
    {
     "data": {
      "image/png": "[encoded data removed]",
      "text/plain": [
       "<Figure size 432x288 with 1 Axes>"
      ]
     },
     "metadata": {
      "needs_background": "light"
     },
     "output_type": "display_data"
    }
   ],
   "source": [
    "sns.violinplot(y=result['AGE'], x=result['INJURY_CLASSIFICATION'], data=result)"
   ]
  },
  {
   "cell_type": "code",
   "execution_count": 52,
   "metadata": {},
   "outputs": [
    {
     "data": {
      "text/plain": [
       "<matplotlib.axes._subplots.AxesSubplot at 0x7fbd0f139f10>"
      ]
     },
     "execution_count": 52,
     "metadata": {},
     "output_type": "execute_result"
    },
    {
     "data": {
      "image/png": "[encoded data removed]",
      "text/plain": [
       "<Figure size 432x288 with 1 Axes>"
      ]
     },
     "metadata": {
      "needs_background": "light"
     },
     "output_type": "display_data"
    }
   ],
   "source": [
    "sns.distplot(result['AGE'])"
   ]
  },
  {
   "cell_type": "code",
   "execution_count": 17,
   "metadata": {},
   "outputs": [
    {
     "data": {
      "text/plain": [
       "0          0.0\n",
       "2          0.0\n",
       "6          1.0\n",
       "12         0.0\n",
       "18         0.0\n",
       "          ... \n",
       "1850956    0.0\n",
       "1850959    0.0\n",
       "1850961    0.0\n",
       "1850963    0.0\n",
       "1850965    0.0\n",
       "Name: INJURY_CLASSIFICATION, Length: 406245, dtype: float64"
      ]
     },
     "execution_count": 17,
     "metadata": {},
     "output_type": "execute_result"
    }
   ],
   "source": [
    "# result['INJURY_CLASSIFICATION'].dropna(axis=0)"
   ]
  },
  {
   "cell_type": "code",
   "execution_count": 18,
   "metadata": {},
   "outputs": [],
   "source": []
  },
  {
   "cell_type": "code",
   "execution_count": 54,
   "metadata": {},
   "outputs": [
    {
     "data": {
      "text/plain": [
       "0.0    391798\n",
       "1.0     14253\n",
       "2.0       194\n",
       "Name: INJURY_CLASSIFICATION, dtype: int64"
      ]
     },
     "execution_count": 54,
     "metadata": {},
     "output_type": "execute_result"
    }
   ],
   "source": [
    "result['INJURY_CLASSIFICATION'].value_counts()"
   ]
  },
  {
   "cell_type": "code",
   "execution_count": 20,
   "metadata": {},
   "outputs": [
    {
     "data": {
      "text/plain": [
       "(408529,)"
      ]
     },
     "execution_count": 20,
     "metadata": {},
     "output_type": "execute_result"
    }
   ],
   "source": [
    "result['INJURY_CLASSIFICATION'].shape"
   ]
  },
  {
   "cell_type": "code",
   "execution_count": 55,
   "metadata": {},
   "outputs": [],
   "source": [
    "result['INJURY_CLASSIFICATION'].replace({np.nan:0}, inplace=True)"
   ]
  },
  {
   "cell_type": "code",
   "execution_count": 137,
   "metadata": {},
   "outputs": [
    {
     "data": {
      "text/plain": [
       "UNABLE TO DETERMINE                                                                 148177\n",
       "FAILING TO YIELD RIGHT-OF-WAY                                                        45899\n",
       "FOLLOWING TOO CLOSELY                                                                45118\n",
       "NOT APPLICABLE                                                                       21874\n",
       "IMPROPER OVERTAKING/PASSING                                                          19759\n",
       "IMPROPER BACKING                                                                     18431\n",
       "FAILING TO REDUCE SPEED TO AVOID CRASH                                               17236\n",
       "IMPROPER LANE USAGE                                                                  16432\n",
       "IMPROPER TURNING/NO SIGNAL                                                           13798\n",
       "DRIVING SKILLS/KNOWLEDGE/EXPERIENCE                                                  12734\n",
       "DISREGARDING TRAFFIC SIGNALS                                                          6924\n",
       "WEATHER                                                                               6653\n",
       "OPERATING VEHICLE IN ERRATIC, RECKLESS, CARELESS, NEGLIGENT OR AGGRESSIVE MANNER      4852\n",
       "DISREGARDING STOP SIGN                                                                4329\n",
       "DISTRACTION - FROM INSIDE VEHICLE                                                     2965\n",
       "EQUIPMENT - VEHICLE CONDITION                                                         2393\n",
       "VISION OBSCURED (SIGNS, TREE LIMBS, BUILDINGS, ETC.)                                  2362\n",
       "PHYSICAL CONDITION OF DRIVER                                                          2319\n",
       "UNDER THE INFLUENCE OF ALCOHOL/DRUGS (USE WHEN ARREST IS EFFECTED)                    2136\n",
       "EXCEEDING AUTHORIZED SPEED LIMIT                                                      1957\n",
       "DRIVING ON WRONG SIDE/WRONG WAY                                                       1800\n",
       "DISTRACTION - FROM OUTSIDE VEHICLE                                                    1785\n",
       "EXCEEDING SAFE SPEED FOR CONDITIONS                                                   1676\n",
       "ROAD ENGINEERING/SURFACE/MARKING DEFECTS                                              1267\n",
       "ROAD CONSTRUCTION/MAINTENANCE                                                         1062\n",
       "DISREGARDING OTHER TRAFFIC SIGNS                                                       844\n",
       "EVASIVE ACTION DUE TO ANIMAL, OBJECT, NONMOTORIST                                      737\n",
       "DISREGARDING ROAD MARKINGS                                                             580\n",
       "CELL PHONE USE OTHER THAN TEXTING                                                      578\n",
       "HAD BEEN DRINKING (USE WHEN ARREST IS NOT MADE)                                        437\n",
       "ANIMAL                                                                                 349\n",
       "TURNING RIGHT ON RED                                                                   274\n",
       "DISTRACTION - OTHER ELECTRONIC DEVICE (NAVIGATION DEVICE, DVD PLAYER, ETC.)            193\n",
       "TEXTING                                                                                185\n",
       "DISREGARDING YIELD SIGN                                                                154\n",
       "RELATED TO BUS STOP                                                                    104\n",
       "BICYCLE ADVANCING LEGALLY ON RED LIGHT                                                  60\n",
       "PASSING STOPPED SCHOOL BUS                                                              57\n",
       "OBSTRUCTED CROSSWALKS                                                                   22\n",
       "MOTORCYCLE ADVANCING LEGALLY ON RED LIGHT                                               17\n",
       "Name: PRIM_CONTRIBUTORY_CAUSE, dtype: int64"
      ]
     },
     "execution_count": 137,
     "metadata": {},
     "output_type": "execute_result"
    }
   ],
   "source": [
    "result['PRIM_CONTRIBUTORY_CAUSE'].value_counts()"
   ]
  },
  {
   "cell_type": "code",
   "execution_count": 56,
   "metadata": {},
   "outputs": [],
   "source": [
    "G=['PERSON_TYPE', 'SEX', 'SAFETY_EQUIPMENT', 'AIRBAG_DEPLOYED',\n",
    "       'EJECTION','DRIVER_ACTION', 'DRIVER_VISION',\n",
    "       'PHYSICAL_CONDITION', 'BAC_RESULT', 'POSTED_SPEED_LIMIT',\n",
    "       'TRAFFIC_CONTROL_DEVICE', 'DEVICE_CONDITION', 'WEATHER_CONDITION',\n",
    "       'LIGHTING_CONDITION', 'FIRST_CRASH_TYPE', 'TRAFFICWAY_TYPE',\n",
    "       'ROADWAY_SURFACE_COND', 'ROAD_DEFECT', 'CRASH_TYPE', 'DAMAGE',\n",
    "       'PRIM_CONTRIBUTORY_CAUSE', 'SEC_CONTRIBUTORY_CAUSE', 'CRASH_HOUR',\n",
    "       'CRASH_DAY_OF_WEEK', 'CRASH_MONTH']"
   ]
  },
  {
   "cell_type": "code",
   "execution_count": 57,
   "metadata": {},
   "outputs": [],
   "source": [
    "frame0=pd.get_dummies(result[G], drop_first=True)"
   ]
  },
  {
   "cell_type": "code",
   "execution_count": 93,
   "metadata": {},
   "outputs": [
    {
     "data": {
      "text/plain": [
       "POSTED_SPEED_LIMIT                                                                           0\n",
       "CRASH_HOUR                                                                                   0\n",
       "CRASH_DAY_OF_WEEK                                                                            0\n",
       "CRASH_MONTH                                                                                  0\n",
       "PERSON_TYPE_DRIVER                                                                           0\n",
       "                                                                                            ..\n",
       "SEC_CONTRIBUTORY_CAUSE_TURNING RIGHT ON RED                                                  0\n",
       "SEC_CONTRIBUTORY_CAUSE_UNABLE TO DETERMINE                                                   0\n",
       "SEC_CONTRIBUTORY_CAUSE_UNDER THE INFLUENCE OF ALCOHOL/DRUGS (USE WHEN ARREST IS EFFECTED)    0\n",
       "SEC_CONTRIBUTORY_CAUSE_VISION OBSCURED (SIGNS, TREE LIMBS, BUILDINGS, ETC.)                  0\n",
       "SEC_CONTRIBUTORY_CAUSE_WEATHER                                                               0\n",
       "Length: 254, dtype: int64"
      ]
     },
     "execution_count": 93,
     "metadata": {},
     "output_type": "execute_result"
    }
   ],
   "source": [
    "frame0.isna().sum()"
   ]
  },
  {
   "cell_type": "code",
   "execution_count": 211,
   "metadata": {},
   "outputs": [
    {
     "data": {
      "text/plain": [
       "6    66404\n",
       "7    59613\n",
       "3    59236\n",
       "5    58995\n",
       "4    58577\n",
       "2    56942\n",
       "1    48762\n",
       "Name: CRASH_DAY_OF_WEEK, dtype: int64"
      ]
     },
     "execution_count": 211,
     "metadata": {},
     "output_type": "execute_result"
    }
   ],
   "source": [
    "X['CRASH_DAY_OF_WEEK'].value_counts()"
   ]
  },
  {
   "cell_type": "code",
   "execution_count": 59,
   "metadata": {},
   "outputs": [],
   "source": [
    "X = frame0\n",
    "y = result['INJURY_CLASSIFICATION']\n",
    "\n",
    "X_train, X_test, y_train, y_test = train_test_split(X, y, test_size = 0.3, random_state = 23)"
   ]
  },
  {
   "cell_type": "code",
   "execution_count": 67,
   "metadata": {},
   "outputs": [],
   "source": [
    "dtc = DecisionTreeClassifier( criterion='gini', class_weight='balanced')"
   ]
  },
  {
   "cell_type": "code",
   "execution_count": 68,
   "metadata": {},
   "outputs": [],
   "source": [
    "from sklearn import metrics"
   ]
  },
  {
   "cell_type": "code",
   "execution_count": 69,
   "metadata": {},
   "outputs": [
    {
     "data": {
      "text/plain": [
       "DecisionTreeClassifier(class_weight='balanced')"
      ]
     },
     "execution_count": 69,
     "metadata": {},
     "output_type": "execute_result"
    }
   ],
   "source": [
    "dtc.fit(X_train, y_train)"
   ]
  },
  {
   "cell_type": "code",
   "execution_count": 70,
   "metadata": {},
   "outputs": [],
   "source": [
    "y_preds=dtc.predict(X_test)"
   ]
  },
  {
   "cell_type": "code",
   "execution_count": 207,
   "metadata": {},
   "outputs": [
    {
     "name": "stdout",
     "output_type": "stream",
     "text": [
      "0.4453541698294119\n",
      "0.9514764317593976\n",
      "0.4445529720977824\n",
      "0.44639528972099213\n"
     ]
    },
    {
     "data": {
      "text/plain": [
       "0.6527491041474505"
      ]
     },
     "execution_count": 207,
     "metadata": {},
     "output_type": "execute_result"
    }
   ],
   "source": [
    "print(metrics.f1_score(y_test, y_preds, average='macro'))\n",
    "print(metrics.accuracy_score(y_test, y_preds))\n",
    "print(metrics.precision_score(y_test, y_preds, average='macro'))\n",
    "print(metrics.recall_score(y_test, y_preds, average='macro'))\n",
    "fpr, tpr, thresholds = metrics.roc_curve(y_test, y_preds, pos_label=2)\n",
    "metrics.auc(fpr, tpr)"
   ]
  },
  {
   "cell_type": "code",
   "execution_count": 121,
   "metadata": {},
   "outputs": [
    {
     "data": {
      "text/plain": [
       "0         0.0\n",
       "1         0.0\n",
       "2         0.0\n",
       "3         0.0\n",
       "4         0.0\n",
       "         ... \n",
       "122554    0.0\n",
       "122555    0.0\n",
       "122556    0.0\n",
       "122557    0.0\n",
       "122558    0.0\n",
       "Name: 0, Length: 122559, dtype: float64"
      ]
     },
     "execution_count": 121,
     "metadata": {},
     "output_type": "execute_result"
    }
   ],
   "source": [
    "y_stuff= pd.DataFrame(y_preds)\n",
    "y_stuff[0]"
   ]
  },
  {
   "cell_type": "code",
   "execution_count": 122,
   "metadata": {},
   "outputs": [
    {
     "data": {
      "text/plain": [
       "1581490    0.0\n",
       "1554831    0.0\n",
       "1286026    0.0\n",
       "948964     0.0\n",
       "894308     0.0\n",
       "          ... \n",
       "723920     0.0\n",
       "530926     0.0\n",
       "1058037    0.0\n",
       "954736     0.0\n",
       "847914     0.0\n",
       "Name: INJURY_CLASSIFICATION, Length: 122559, dtype: float64"
      ]
     },
     "execution_count": 122,
     "metadata": {},
     "output_type": "execute_result"
    }
   ],
   "source": [
    "z_stuff=pd.DataFrame(y_test)\n",
    "z_stuff['INJURY_CLASSIFICATION']\n"
   ]
  },
  {
   "cell_type": "code",
   "execution_count": 108,
   "metadata": {},
   "outputs": [],
   "source": []
  },
  {
   "cell_type": "code",
   "execution_count": 110,
   "metadata": {},
   "outputs": [
    {
     "data": {
      "text/html": [
       "<div>\n",
       "<style scoped>\n",
       "    .dataframe tbody tr th:only-of-type {\n",
       "        vertical-align: middle;\n",
       "    }\n",
       "\n",
       "    .dataframe tbody tr th {\n",
       "        vertical-align: top;\n",
       "    }\n",
       "\n",
       "    .dataframe thead th {\n",
       "        text-align: right;\n",
       "    }\n",
       "</style>\n",
       "<table border=\"1\" class=\"dataframe\">\n",
       "  <thead>\n",
       "    <tr style=\"text-align: right;\">\n",
       "      <th></th>\n",
       "    </tr>\n",
       "  </thead>\n",
       "  <tbody>\n",
       "    <tr>\n",
       "      <td>0</td>\n",
       "    </tr>\n",
       "    <tr>\n",
       "      <td>1</td>\n",
       "    </tr>\n",
       "    <tr>\n",
       "      <td>2</td>\n",
       "    </tr>\n",
       "    <tr>\n",
       "      <td>3</td>\n",
       "    </tr>\n",
       "    <tr>\n",
       "      <td>4</td>\n",
       "    </tr>\n",
       "    <tr>\n",
       "      <td>...</td>\n",
       "    </tr>\n",
       "    <tr>\n",
       "      <td>723920</td>\n",
       "    </tr>\n",
       "    <tr>\n",
       "      <td>530926</td>\n",
       "    </tr>\n",
       "    <tr>\n",
       "      <td>1058037</td>\n",
       "    </tr>\n",
       "    <tr>\n",
       "      <td>954736</td>\n",
       "    </tr>\n",
       "    <tr>\n",
       "      <td>847914</td>\n",
       "    </tr>\n",
       "  </tbody>\n",
       "</table>\n",
       "<p>245118 rows × 0 columns</p>\n",
       "</div>"
      ],
      "text/plain": [
       "Empty DataFrame\n",
       "Columns: []\n",
       "Index: [0, 1, 2, 3, 4, 5, 6, 7, 8, 9, 10, 11, 12, 13, 14, 15, 16, 17, 18, 19, 20, 21, 22, 23, 24, 25, 26, 27, 28, 29, 30, 31, 32, 33, 34, 35, 36, 37, 38, 39, 40, 41, 42, 43, 44, 45, 46, 47, 48, 49, 50, 51, 52, 53, 54, 55, 56, 57, 58, 59, 60, 61, 62, 63, 64, 65, 66, 67, 68, 69, 70, 71, 72, 73, 74, 75, 76, 77, 78, 79, 80, 81, 82, 83, 84, 85, 86, 87, 88, 89, 90, 91, 92, 93, 94, 95, 96, 97, 98, 99, ...]\n",
       "\n",
       "[245118 rows x 0 columns]"
      ]
     },
     "execution_count": 110,
     "metadata": {},
     "output_type": "execute_result"
    }
   ],
   "source": []
  },
  {
   "cell_type": "code",
   "execution_count": 140,
   "metadata": {},
   "outputs": [
    {
     "data": {
      "text/plain": [
       "<matplotlib.axes._subplots.AxesSubplot at 0x7fbd158c8050>"
      ]
     },
     "execution_count": 140,
     "metadata": {},
     "output_type": "execute_result"
    },
    {
     "data": {
      "image/png": "[encoded data removed]",
      "text/plain": [
       "<Figure size 576x576 with 1 Axes>"
      ]
     },
     "metadata": {
      "needs_background": "light"
     },
     "output_type": "display_data"
    }
   ],
   "source": [
    "plt.figure(figsize=(8,8))\n",
    "sns.barplot( y=X_train.columns.values[-25: ], x=np.sort(dtc.feature_importances_)[-25:], orient='h')"
   ]
  },
  {
   "cell_type": "code",
   "execution_count": 139,
   "metadata": {},
   "outputs": [
    {
     "data": {
      "text/plain": [
       "array([0.00802281, 0.00954179, 0.00961568, 0.00984543, 0.00994963,\n",
       "       0.01007938, 0.01109635, 0.01177442, 0.01550589, 0.02043152,\n",
       "       0.02100259, 0.02226376, 0.03405997, 0.18122953, 0.36049011])"
      ]
     },
     "execution_count": 139,
     "metadata": {},
     "output_type": "execute_result"
    }
   ],
   "source": [
    "np.sort(dtc.feature_importances_)[-15:]"
   ]
  },
  {
   "cell_type": "code",
   "execution_count": null,
   "metadata": {},
   "outputs": [],
   "source": [
    "def plot_feature_importances(model):\n",
    "    n_features = X_train.shape[1]\n",
    "    plt.figure(figsize=(200,200))\n",
    "    plt.barh(range(n_features), model.feature_importances_, align='center') \n",
    "    plt.yticks(np.arange(n_features), X_train.columns.values) \n",
    "    plt.xlabel('Feature importance')\n",
    "    plt.ylabel('Feature')\n",
    "\n",
    "plot_feature_importances(dtc)"
   ]
  },
  {
   "cell_type": "code",
   "execution_count": 208,
   "metadata": {},
   "outputs": [
    {
     "name": "stderr",
     "output_type": "stream",
     "text": [
      "[Parallel(n_jobs=-1)]: Using backend ThreadingBackend with 4 concurrent workers.\n",
      "[Parallel(n_jobs=-1)]: Done  42 tasks      | elapsed:   17.2s\n",
      "[Parallel(n_jobs=-1)]: Done 192 tasks      | elapsed:  1.3min\n",
      "[Parallel(n_jobs=-1)]: Done 442 tasks      | elapsed:  2.9min\n",
      "[Parallel(n_jobs=-1)]: Done 500 out of 500 | elapsed:  3.3min finished\n"
     ]
    },
    {
     "data": {
      "text/plain": [
       "RandomForestClassifier(class_weight='balanced', min_samples_leaf=2,\n",
       "                       n_estimators=500, n_jobs=-1, random_state=20, verbose=1)"
      ]
     },
     "execution_count": 208,
     "metadata": {},
     "output_type": "execute_result"
    }
   ],
   "source": [
    "from sklearn.ensemble import RandomForestClassifier\n",
    "rfc=RandomForestClassifier(n_estimators=500, criterion= 'gini', warm_start=False, class_weight='balanced', \n",
    "                           bootstrap=True, min_samples_leaf= 2, n_jobs=-1, random_state = 20, verbose=1)\n",
    "rfc.fit(X_train,y_train)"
   ]
  },
  {
   "cell_type": "code",
   "execution_count": 209,
   "metadata": {},
   "outputs": [
    {
     "name": "stderr",
     "output_type": "stream",
     "text": [
      "[Parallel(n_jobs=4)]: Using backend ThreadingBackend with 4 concurrent workers.\n",
      "[Parallel(n_jobs=4)]: Done  42 tasks      | elapsed:    0.6s\n",
      "[Parallel(n_jobs=4)]: Done 192 tasks      | elapsed:    2.8s\n",
      "[Parallel(n_jobs=4)]: Done 442 tasks      | elapsed:    6.4s\n",
      "[Parallel(n_jobs=4)]: Done 500 out of 500 | elapsed:    7.2s finished\n"
     ]
    }
   ],
   "source": [
    "rfc_preds= rfc.predict(X_test)\n"
   ]
  },
  {
   "cell_type": "code",
   "execution_count": 210,
   "metadata": {},
   "outputs": [
    {
     "name": "stdout",
     "output_type": "stream",
     "text": [
      "0.49076835751239284\n",
      "0.9515335471079235\n",
      "0.49744401426194007\n",
      "0.5235772672428333\n"
     ]
    },
    {
     "data": {
      "text/plain": [
       "0.8334333804047049"
      ]
     },
     "execution_count": 210,
     "metadata": {},
     "output_type": "execute_result"
    }
   ],
   "source": [
    "print(metrics.f1_score(y_test, rfc_preds, average='macro'))\n",
    "print(metrics.accuracy_score(y_test, rfc_preds))\n",
    "print(metrics.precision_score(y_test, rfc_preds, average='macro'))\n",
    "print(metrics.recall_score(y_test, rfc_preds, average='macro'))\n",
    "fpr, tpr, thresholds = metrics.roc_curve(y_test, rfc_preds, pos_label=2)\n",
    "metrics.auc(fpr, tpr)"
   ]
  },
  {
   "cell_type": "code",
   "execution_count": 125,
   "metadata": {},
   "outputs": [
    {
     "data": {
      "text/plain": [
       "0.0    115886\n",
       "1.0      6665\n",
       "2.0         8\n",
       "Name: 0, dtype: int64"
      ]
     },
     "execution_count": 125,
     "metadata": {},
     "output_type": "execute_result"
    }
   ],
   "source": [
    "y_stuff= pd.DataFrame(rfc_preds)\n",
    "y_stuff[0].value_counts()"
   ]
  },
  {
   "cell_type": "code",
   "execution_count": 127,
   "metadata": {},
   "outputs": [
    {
     "data": {
      "text/plain": [
       "0.0    118147\n",
       "1.0      4362\n",
       "2.0        50\n",
       "Name: INJURY_CLASSIFICATION, dtype: int64"
      ]
     },
     "execution_count": 127,
     "metadata": {},
     "output_type": "execute_result"
    }
   ],
   "source": [
    "z_stuff['INJURY_CLASSIFICATION'].value_counts()"
   ]
  },
  {
   "cell_type": "code",
   "execution_count": null,
   "metadata": {},
   "outputs": [],
   "source": [
    "rfc.feature_importances_\n",
    "np.sort(rfc.feature_importances_)[-15:]"
   ]
  },
  {
   "cell_type": "code",
   "execution_count": null,
   "metadata": {},
   "outputs": [],
   "source": []
  },
  {
   "cell_type": "code",
   "execution_count": null,
   "metadata": {},
   "outputs": [],
   "source": [
    "def plot_feature_importances(model):\n",
    "    n_features = X_train.shape[1]\n",
    "    plt.figure(figsize=(8,8))\n",
    "    plt.barh(range(n_features), model.feature_importances_, align='center') \n",
    "    plt.yticks(np.arange(n_features), X_train.columns.values) \n",
    "    plt.xlabel('Feature importance')\n",
    "    plt.ylabel('Feature')\n",
    "\n",
    "plot_feature_importances(rfc)"
   ]
  },
  {
   "cell_type": "code",
   "execution_count": 141,
   "metadata": {},
   "outputs": [
    {
     "data": {
      "text/plain": [
       "<matplotlib.axes._subplots.AxesSubplot at 0x7fbd017b1490>"
      ]
     },
     "execution_count": 141,
     "metadata": {},
     "output_type": "execute_result"
    },
    {
     "data": {
      "image/png": "[encoded data removed]",
      "text/plain": [
       "<Figure size 576x576 with 1 Axes>"
      ]
     },
     "metadata": {
      "needs_background": "light"
     },
     "output_type": "display_data"
    }
   ],
   "source": [
    "plt.figure(figsize=(8,8))\n",
    "sns.barplot( y=X_train.columns.values[-25: ], x=np.sort(rfc.feature_importances_)[-25:], orient='h')"
   ]
  },
  {
   "cell_type": "code",
   "execution_count": 205,
   "metadata": {},
   "outputs": [],
   "source": [
    "from sklearn.neighbors import KNeighborsClassifier\n",
    "knn = KNeighborsClassifier(n_neighbors=6, weights='distance', n_jobs=-1)\n",
    "knn.fit(X_train, y_train)\n",
    "knn_preds=knn.predict(X_test)\n"
   ]
  },
  {
   "cell_type": "code",
   "execution_count": 206,
   "metadata": {},
   "outputs": [
    {
     "name": "stdout",
     "output_type": "stream",
     "text": [
      "0.3709712518847907\n",
      "0.9644334565392995\n",
      "0.8434875811711308\n",
      "0.35619068180282937\n"
     ]
    },
    {
     "data": {
      "text/plain": [
       "0.5284641128406892"
      ]
     },
     "execution_count": 206,
     "metadata": {},
     "output_type": "execute_result"
    }
   ],
   "source": [
    "print(metrics.f1_score(y_test, knn_preds, average='macro'))\n",
    "print(metrics.accuracy_score(y_test, knn_preds))\n",
    "print(metrics.precision_score(y_test, knn_preds, average='macro'))\n",
    "print(metrics.recall_score(y_test, knn_preds, average='macro'))\n",
    "fpr, tpr, thresholds = metrics.roc_curve(y_test, knn_preds, pos_label=2)\n",
    "metrics.auc(fpr, tpr)"
   ]
  },
  {
   "cell_type": "code",
   "execution_count": 72,
   "metadata": {},
   "outputs": [
    {
     "name": "stdout",
     "output_type": "stream",
     "text": [
      "Fitting estimator with 254 features.\n",
      "Fitting estimator with 253 features.\n",
      "Fitting estimator with 252 features.\n",
      "Fitting estimator with 251 features.\n",
      "Fitting estimator with 250 features.\n",
      "Fitting estimator with 249 features.\n",
      "Fitting estimator with 248 features.\n",
      "Fitting estimator with 247 features.\n",
      "Fitting estimator with 246 features.\n",
      "Fitting estimator with 245 features.\n",
      "Fitting estimator with 244 features.\n",
      "Fitting estimator with 243 features.\n",
      "Fitting estimator with 242 features.\n",
      "Fitting estimator with 241 features.\n",
      "Fitting estimator with 240 features.\n",
      "Fitting estimator with 239 features.\n",
      "Fitting estimator with 238 features.\n",
      "Fitting estimator with 237 features.\n",
      "Fitting estimator with 236 features.\n",
      "Fitting estimator with 235 features.\n",
      "Fitting estimator with 234 features.\n",
      "Fitting estimator with 233 features.\n",
      "Fitting estimator with 232 features.\n",
      "Fitting estimator with 231 features.\n",
      "Fitting estimator with 230 features.\n",
      "Fitting estimator with 229 features.\n",
      "Fitting estimator with 228 features.\n",
      "Fitting estimator with 227 features.\n",
      "Fitting estimator with 226 features.\n",
      "Fitting estimator with 225 features.\n",
      "Fitting estimator with 224 features.\n",
      "Fitting estimator with 223 features.\n",
      "Fitting estimator with 222 features.\n",
      "Fitting estimator with 221 features.\n",
      "Fitting estimator with 220 features.\n",
      "Fitting estimator with 219 features.\n",
      "Fitting estimator with 218 features.\n",
      "Fitting estimator with 217 features.\n",
      "Fitting estimator with 216 features.\n",
      "Fitting estimator with 215 features.\n",
      "Fitting estimator with 214 features.\n",
      "Fitting estimator with 213 features.\n",
      "Fitting estimator with 212 features.\n",
      "Fitting estimator with 211 features.\n",
      "Fitting estimator with 210 features.\n",
      "Fitting estimator with 209 features.\n",
      "Fitting estimator with 208 features.\n",
      "Fitting estimator with 207 features.\n",
      "Fitting estimator with 206 features.\n",
      "Fitting estimator with 205 features.\n",
      "Fitting estimator with 204 features.\n",
      "Fitting estimator with 203 features.\n",
      "Fitting estimator with 202 features.\n",
      "Fitting estimator with 201 features.\n",
      "Fitting estimator with 200 features.\n",
      "Fitting estimator with 199 features.\n",
      "Fitting estimator with 198 features.\n",
      "Fitting estimator with 197 features.\n",
      "Fitting estimator with 196 features.\n",
      "Fitting estimator with 195 features.\n",
      "Fitting estimator with 194 features.\n",
      "Fitting estimator with 193 features.\n",
      "Fitting estimator with 192 features.\n",
      "Fitting estimator with 191 features.\n",
      "Fitting estimator with 190 features.\n",
      "Fitting estimator with 189 features.\n",
      "Fitting estimator with 188 features.\n",
      "Fitting estimator with 187 features.\n",
      "Fitting estimator with 186 features.\n",
      "Fitting estimator with 185 features.\n",
      "Fitting estimator with 184 features.\n",
      "Fitting estimator with 183 features.\n",
      "Fitting estimator with 182 features.\n",
      "Fitting estimator with 181 features.\n",
      "Fitting estimator with 180 features.\n",
      "Fitting estimator with 179 features.\n",
      "Fitting estimator with 178 features.\n",
      "Fitting estimator with 177 features.\n",
      "Fitting estimator with 176 features.\n",
      "Fitting estimator with 175 features.\n",
      "Fitting estimator with 174 features.\n",
      "Fitting estimator with 173 features.\n",
      "Fitting estimator with 172 features.\n",
      "Fitting estimator with 171 features.\n",
      "Fitting estimator with 170 features.\n",
      "Fitting estimator with 169 features.\n",
      "Fitting estimator with 168 features.\n",
      "Fitting estimator with 167 features.\n",
      "Fitting estimator with 166 features.\n",
      "Fitting estimator with 165 features.\n",
      "Fitting estimator with 164 features.\n",
      "Fitting estimator with 163 features.\n",
      "Fitting estimator with 162 features.\n",
      "Fitting estimator with 161 features.\n",
      "Fitting estimator with 160 features.\n",
      "Fitting estimator with 159 features.\n",
      "Fitting estimator with 158 features.\n",
      "Fitting estimator with 157 features.\n",
      "Fitting estimator with 156 features.\n",
      "Fitting estimator with 155 features.\n",
      "Fitting estimator with 154 features.\n",
      "Fitting estimator with 153 features.\n",
      "Fitting estimator with 152 features.\n",
      "Fitting estimator with 151 features.\n",
      "Fitting estimator with 150 features.\n",
      "Fitting estimator with 149 features.\n",
      "Fitting estimator with 148 features.\n",
      "Fitting estimator with 147 features.\n",
      "Fitting estimator with 146 features.\n",
      "Fitting estimator with 145 features.\n",
      "Fitting estimator with 144 features.\n",
      "Fitting estimator with 143 features.\n",
      "Fitting estimator with 142 features.\n",
      "Fitting estimator with 141 features.\n",
      "Fitting estimator with 140 features.\n",
      "Fitting estimator with 139 features.\n",
      "Fitting estimator with 138 features.\n",
      "Fitting estimator with 137 features.\n",
      "Fitting estimator with 136 features.\n",
      "Fitting estimator with 135 features.\n",
      "Fitting estimator with 134 features.\n",
      "Fitting estimator with 133 features.\n",
      "Fitting estimator with 132 features.\n",
      "Fitting estimator with 131 features.\n",
      "Fitting estimator with 130 features.\n",
      "Fitting estimator with 129 features.\n",
      "Fitting estimator with 128 features.\n",
      "Fitting estimator with 127 features.\n",
      "Fitting estimator with 126 features.\n",
      "Fitting estimator with 125 features.\n",
      "Fitting estimator with 124 features.\n",
      "Fitting estimator with 123 features.\n",
      "Fitting estimator with 122 features.\n",
      "Fitting estimator with 121 features.\n",
      "Fitting estimator with 120 features.\n",
      "Fitting estimator with 119 features.\n",
      "Fitting estimator with 118 features.\n",
      "Fitting estimator with 117 features.\n",
      "Fitting estimator with 116 features.\n",
      "Fitting estimator with 115 features.\n",
      "Fitting estimator with 114 features.\n",
      "Fitting estimator with 113 features.\n",
      "Fitting estimator with 112 features.\n",
      "Fitting estimator with 111 features.\n",
      "Fitting estimator with 110 features.\n",
      "Fitting estimator with 109 features.\n",
      "Fitting estimator with 108 features.\n",
      "Fitting estimator with 107 features.\n",
      "Fitting estimator with 106 features.\n",
      "Fitting estimator with 105 features.\n",
      "Fitting estimator with 104 features.\n",
      "Fitting estimator with 103 features.\n",
      "Fitting estimator with 102 features.\n",
      "Fitting estimator with 101 features.\n",
      "Fitting estimator with 100 features.\n",
      "Fitting estimator with 99 features.\n",
      "Fitting estimator with 98 features.\n",
      "Fitting estimator with 97 features.\n",
      "Fitting estimator with 96 features.\n",
      "Fitting estimator with 95 features.\n",
      "Fitting estimator with 94 features.\n",
      "Fitting estimator with 93 features.\n",
      "Fitting estimator with 92 features.\n",
      "Fitting estimator with 91 features.\n",
      "Fitting estimator with 90 features.\n",
      "Fitting estimator with 89 features.\n",
      "Fitting estimator with 88 features.\n",
      "Fitting estimator with 87 features.\n",
      "Fitting estimator with 86 features.\n",
      "Fitting estimator with 85 features.\n",
      "Fitting estimator with 84 features.\n",
      "Fitting estimator with 83 features.\n",
      "Fitting estimator with 82 features.\n",
      "Fitting estimator with 81 features.\n",
      "Fitting estimator with 80 features.\n",
      "Fitting estimator with 79 features.\n",
      "Fitting estimator with 78 features.\n",
      "Fitting estimator with 77 features.\n",
      "Fitting estimator with 76 features.\n",
      "Fitting estimator with 75 features.\n",
      "Fitting estimator with 74 features.\n",
      "Fitting estimator with 73 features.\n",
      "Fitting estimator with 72 features.\n"
     ]
    }
   ],
   "source": [
    "from sklearn.feature_selection import RFECV\n",
    "selector = RFECV(estimator=dtc, step=1, cv=3, n_jobs=-1, verbose=3, scoring='neg_mean_squared_error')\n",
    "selector.fit(X_train, y_train)\n",
    "RFECV_preds=selector.predict(X_test)\n"
   ]
  },
  {
   "cell_type": "code",
   "execution_count": 204,
   "metadata": {},
   "outputs": [
    {
     "name": "stdout",
     "output_type": "stream",
     "text": [
      "0.4322969750079179\n",
      "0.9523576399937989\n",
      "0.436954321065808\n",
      "0.42826075732394814\n"
     ]
    },
    {
     "data": {
      "text/plain": [
       "0.754061742402599"
      ]
     },
     "execution_count": 204,
     "metadata": {},
     "output_type": "execute_result"
    }
   ],
   "source": [
    "print(metrics.f1_score(y_test, RFECV_preds, average='macro'))\n",
    "print(metrics.accuracy_score(y_test, RFECV_preds))\n",
    "print(metrics.precision_score(y_test, RFECV_preds, average='macro'))\n",
    "print(metrics.recall_score(y_test, RFECV_preds, average='macro'))\n",
    "fpr, tpr, thresholds = metrics.roc_curve(y_test, RFECV_preds, pos_label=2)\n",
    "metrics.auc(fpr, tpr)"
   ]
  },
  {
   "cell_type": "code",
   "execution_count": 74,
   "metadata": {},
   "outputs": [],
   "source": [
    "selected_rfe = X_train.columns[selector.support_]\n",
    "removed_rfe = X_train.columns[~selector.support_]"
   ]
  },
  {
   "cell_type": "code",
   "execution_count": 75,
   "metadata": {},
   "outputs": [
    {
     "data": {
      "text/plain": [
       "['POSTED_SPEED_LIMIT',\n",
       " 'CRASH_HOUR',\n",
       " 'CRASH_DAY_OF_WEEK',\n",
       " 'CRASH_MONTH',\n",
       " 'PERSON_TYPE_PEDESTRIAN',\n",
       " 'SEX_M',\n",
       " 'SEX_X',\n",
       " 'SAFETY_EQUIPMENT_HELMET USED',\n",
       " 'SAFETY_EQUIPMENT_NONE PRESENT',\n",
       " 'SAFETY_EQUIPMENT_SAFETY BELT USED',\n",
       " 'SAFETY_EQUIPMENT_USAGE UNKNOWN',\n",
       " 'AIRBAG_DEPLOYED_DEPLOYED, FRONT',\n",
       " 'AIRBAG_DEPLOYED_DEPLOYMENT UNKNOWN',\n",
       " 'AIRBAG_DEPLOYED_DID NOT DEPLOY',\n",
       " 'AIRBAG_DEPLOYED_NOT APPLICABLE',\n",
       " 'DRIVER_ACTION_DISREGARDED CONTROL DEVICES',\n",
       " 'DRIVER_ACTION_FAILED TO YIELD',\n",
       " 'DRIVER_ACTION_OTHER',\n",
       " 'DRIVER_ACTION_TOO FAST FOR CONDITIONS',\n",
       " 'DRIVER_ACTION_UNKNOWN',\n",
       " 'DRIVER_VISION_NOT OBSCURED',\n",
       " 'DRIVER_VISION_UNKNOWN',\n",
       " 'PHYSICAL_CONDITION_FATIGUED/ASLEEP',\n",
       " 'PHYSICAL_CONDITION_IMPAIRED - ALCOHOL',\n",
       " 'PHYSICAL_CONDITION_NORMAL',\n",
       " 'PHYSICAL_CONDITION_UNKNOWN',\n",
       " 'BAC_RESULT_TEST PERFORMED, RESULTS UNKNOWN',\n",
       " 'BAC_RESULT_TEST REFUSED',\n",
       " 'TRAFFIC_CONTROL_DEVICE_NO CONTROLS',\n",
       " 'TRAFFIC_CONTROL_DEVICE_SCHOOL ZONE',\n",
       " 'TRAFFIC_CONTROL_DEVICE_STOP SIGN/FLASHER',\n",
       " 'DEVICE_CONDITION_NO CONTROLS',\n",
       " 'DEVICE_CONDITION_UNKNOWN',\n",
       " 'WEATHER_CONDITION_CLEAR',\n",
       " 'WEATHER_CONDITION_CLOUDY/OVERCAST',\n",
       " 'LIGHTING_CONDITION_DARKNESS, LIGHTED ROAD',\n",
       " 'LIGHTING_CONDITION_DAYLIGHT',\n",
       " 'FIRST_CRASH_TYPE_FIXED OBJECT',\n",
       " 'FIRST_CRASH_TYPE_HEAD ON',\n",
       " 'FIRST_CRASH_TYPE_OTHER NONCOLLISION',\n",
       " 'FIRST_CRASH_TYPE_PEDALCYCLIST',\n",
       " 'FIRST_CRASH_TYPE_PEDESTRIAN',\n",
       " 'FIRST_CRASH_TYPE_REAR END',\n",
       " 'FIRST_CRASH_TYPE_SIDESWIPE SAME DIRECTION',\n",
       " 'FIRST_CRASH_TYPE_TURNING',\n",
       " 'TRAFFICWAY_TYPE_DIVIDED - W/MEDIAN (NOT RAISED)',\n",
       " 'TRAFFICWAY_TYPE_DIVIDED - W/MEDIAN BARRIER',\n",
       " 'TRAFFICWAY_TYPE_FOUR WAY',\n",
       " 'TRAFFICWAY_TYPE_NOT DIVIDED',\n",
       " 'TRAFFICWAY_TYPE_ONE-WAY',\n",
       " 'TRAFFICWAY_TYPE_OTHER',\n",
       " 'ROADWAY_SURFACE_COND_WET',\n",
       " 'ROAD_DEFECT_NO DEFECTS',\n",
       " 'CRASH_TYPE_NO INJURY / DRIVE AWAY',\n",
       " 'DAMAGE_$501 - $1,500',\n",
       " 'DAMAGE_OVER $1,500',\n",
       " 'PRIM_CONTRIBUTORY_CAUSE_DRIVING SKILLS/KNOWLEDGE/EXPERIENCE',\n",
       " 'PRIM_CONTRIBUTORY_CAUSE_FAILING TO REDUCE SPEED TO AVOID CRASH',\n",
       " 'PRIM_CONTRIBUTORY_CAUSE_FAILING TO YIELD RIGHT-OF-WAY',\n",
       " 'PRIM_CONTRIBUTORY_CAUSE_NOT APPLICABLE',\n",
       " 'PRIM_CONTRIBUTORY_CAUSE_PHYSICAL CONDITION OF DRIVER',\n",
       " 'PRIM_CONTRIBUTORY_CAUSE_UNABLE TO DETERMINE',\n",
       " 'PRIM_CONTRIBUTORY_CAUSE_WEATHER',\n",
       " 'SEC_CONTRIBUTORY_CAUSE_DISREGARDING ROAD MARKINGS',\n",
       " 'SEC_CONTRIBUTORY_CAUSE_DRIVING SKILLS/KNOWLEDGE/EXPERIENCE',\n",
       " 'SEC_CONTRIBUTORY_CAUSE_EXCEEDING AUTHORIZED SPEED LIMIT',\n",
       " 'SEC_CONTRIBUTORY_CAUSE_FAILING TO REDUCE SPEED TO AVOID CRASH',\n",
       " 'SEC_CONTRIBUTORY_CAUSE_NOT APPLICABLE',\n",
       " 'SEC_CONTRIBUTORY_CAUSE_PHYSICAL CONDITION OF DRIVER',\n",
       " 'SEC_CONTRIBUTORY_CAUSE_UNABLE TO DETERMINE',\n",
       " 'SEC_CONTRIBUTORY_CAUSE_WEATHER']"
      ]
     },
     "execution_count": 75,
     "metadata": {},
     "output_type": "execute_result"
    }
   ],
   "source": [
    "list(selected_rfe)"
   ]
  },
  {
   "cell_type": "code",
   "execution_count": 130,
   "metadata": {},
   "outputs": [],
   "source": [
    "from sklearn.linear_model import RidgeClassifier\n",
    "ridge_clf = RidgeClassifier(class_weight='balanced').fit(X_train, y_train)\n",
    "ridge_preds= ridge_clf.predict(X_test)"
   ]
  },
  {
   "cell_type": "code",
   "execution_count": 201,
   "metadata": {},
   "outputs": [
    {
     "name": "stdout",
     "output_type": "stream",
     "text": [
      "0.3961701669758853\n",
      "0.814513825994011\n",
      "0.3899173884860696\n",
      "0.8193993045245959\n"
     ]
    },
    {
     "data": {
      "text/plain": [
       "0.9579837399701245"
      ]
     },
     "execution_count": 201,
     "metadata": {},
     "output_type": "execute_result"
    }
   ],
   "source": [
    "print(metrics.f1_score(y_test, ridge_preds, average='macro'))\n",
    "print(metrics.accuracy_score(y_test, ridge_preds))\n",
    "print(metrics.precision_score(y_test, ridge_preds, average='macro'))\n",
    "print(metrics.recall_score(y_test, ridge_preds, average='macro'))\n",
    "from sklearn.metrics import roc_auc_score\n",
    "# roc_auc_score(y_test, ridge_preds, multi_class='ovr', max_fpr=None, average='macro')\n",
    "fpr, tpr, thresholds = metrics.roc_curve(y_test, ridge_preds, pos_label=2)\n",
    "metrics.auc(fpr, tpr)"
   ]
  },
  {
   "cell_type": "code",
   "execution_count": 132,
   "metadata": {},
   "outputs": [],
   "source": [
    "from sklearn.ensemble import VotingClassifier"
   ]
  },
  {
   "cell_type": "code",
   "execution_count": 133,
   "metadata": {},
   "outputs": [],
   "source": [
    "voting_clf = VotingClassifier(\n",
    "                estimators=[('r_forest', rfc), ('knneighbors', knn), ('decisiontree', dtc)], \n",
    "                voting='soft')"
   ]
  },
  {
   "cell_type": "code",
   "execution_count": 134,
   "metadata": {},
   "outputs": [
    {
     "name": "stderr",
     "output_type": "stream",
     "text": [
      "[Parallel(n_jobs=-1)]: Using backend LokyBackend with 4 concurrent workers.\n",
      "[Parallel(n_jobs=-1)]: Done  42 tasks      | elapsed:   39.8s\n",
      "[Parallel(n_jobs=-1)]: Done 192 tasks      | elapsed:  2.4min\n",
      "[Parallel(n_jobs=-1)]: Done 442 tasks      | elapsed:  5.6min\n",
      "[Parallel(n_jobs=-1)]: Done 500 out of 500 | elapsed:  6.3min finished\n",
      "[Parallel(n_jobs=4)]: Using backend ThreadingBackend with 4 concurrent workers.\n",
      "[Parallel(n_jobs=4)]: Done  42 tasks      | elapsed:    1.1s\n",
      "[Parallel(n_jobs=4)]: Done 192 tasks      | elapsed:    5.0s\n",
      "[Parallel(n_jobs=4)]: Done 442 tasks      | elapsed:   11.0s\n",
      "[Parallel(n_jobs=4)]: Done 500 out of 500 | elapsed:   12.4s finished\n"
     ]
    }
   ],
   "source": [
    "voting_clf.fit(X_train, y_train)\n",
    "\n",
    "vc_preds = voting_clf.predict(X_test)\n",
    "\n"
   ]
  },
  {
   "cell_type": "code",
   "execution_count": 203,
   "metadata": {},
   "outputs": [
    {
     "name": "stdout",
     "output_type": "stream",
     "text": [
      "0.4585041560312006\n",
      "0.9600682120448111\n",
      "0.49737314380491576\n",
      "0.43670761833946115\n"
     ]
    },
    {
     "data": {
      "text/plain": [
       "0.6383295104849439"
      ]
     },
     "execution_count": 203,
     "metadata": {},
     "output_type": "execute_result"
    }
   ],
   "source": [
    "print(metrics.f1_score(y_test, vc_preds, average='macro'))\n",
    "print(metrics.accuracy_score(y_test, vc_preds))\n",
    "print(metrics.precision_score(y_test, vc_preds, average='macro'))\n",
    "print(metrics.recall_score(y_test, vc_preds, average='macro'))\n",
    "fpr, tpr, thresholds = metrics.roc_curve(y_test, vc_preds, pos_label=2)\n",
    "metrics.auc(fpr, tpr)"
   ]
  },
  {
   "cell_type": "code",
   "execution_count": 168,
   "metadata": {},
   "outputs": [
    {
     "data": {
      "text/plain": [
       "<function matplotlib.pyplot.imshow(X, cmap=None, norm=None, aspect=None, interpolation=None, alpha=None, vmin=None, vmax=None, origin=None, extent=None, shape=<deprecated parameter>, filternorm=1, filterrad=4.0, imlim=<deprecated parameter>, resample=None, url=None, *, data=None, **kwargs)>"
      ]
     },
     "execution_count": 168,
     "metadata": {},
     "output_type": "execute_result"
    }
   ],
   "source": [
    "from sklearn.metrics import plot_confusion_matrix\n",
    "import sklearn\n",
    "matrix = sklearn.metrics.confusion_matrix(y_test, vc_preds)\n",
    "matrix\n",
    "from sklearn.metrics import confusion_matrix\n",
    "import matplotlib\n",
    "matplotlib.axes.Axes.imshow\n",
    "matplotlib.pyplot.imshow"
   ]
  },
  {
   "cell_type": "code",
   "execution_count": 178,
   "metadata": {},
   "outputs": [],
   "source": [
    "def plot_confusion_matrix(cm, classes,\n",
    "                          normalize=False,\n",
    "                          title='Confusion matrix',\n",
    "                          cmap=plt.cm.twilight):\n",
    "    \"\"\"\n",
    "    This function prints and plots the confusion matrix.\n",
    "    Normalization can be applied by setting `normalize=True`.\n",
    "    \"\"\"\n",
    "    import itertools\n",
    "    if normalize:\n",
    "        cm = cm.astype('float') / cm.sum(axis=1)[:, np.newaxis]\n",
    "        print(\"Normalized confusion matrix\")\n",
    "    else:\n",
    "        print('Confusion matrix, without normalization')\n",
    "\n",
    "    print(cm)\n",
    "\n",
    "    plt.imshow(cm, interpolation='nearest', cmap=cmap)\n",
    "#     plt.title(title)\n",
    "    plt.colorbar()\n",
    "    tick_marks = np.arange(len(classes))\n",
    "    plt.xticks(tick_marks, classes, rotation=45)\n",
    "    plt.yticks(tick_marks, classes)\n",
    "\n",
    "    fmt = '.2f' if normalize else 'd'\n",
    "    thresh = cm.max() / 2.\n",
    "    for i, j in itertools.product(range(cm.shape[0]), range(cm.shape[1])):\n",
    "        plt.text(j, i, format(cm[i, j], fmt),\n",
    "                 horizontalalignment=\"center\",\n",
    "                 color=\"black\" if cm[i, j] > thresh else \"black\")\n",
    "\n",
    "    plt.ylabel('True label')\n",
    "    plt.xlabel('Predicted label')\n",
    "    plt.tight_layout()\n",
    "    plt.show()"
   ]
  },
  {
   "cell_type": "code",
   "execution_count": 179,
   "metadata": {},
   "outputs": [
    {
     "name": "stdout",
     "output_type": "stream",
     "text": [
      "Confusion matrix, without normalization\n",
      "[[116421   1713     13]\n",
      " [  3115   1242      5]\n",
      " [    35     13      2]]\n"
     ]
    },
    {
     "ename": "AttributeError",
     "evalue": "module 'matplotlib' has no attribute 'imshow'",
     "output_type": "error",
     "traceback": [
      "\u001b[0;31m---------------------------------------------------------------------------\u001b[0m",
      "\u001b[0;31mAttributeError\u001b[0m                            Traceback (most recent call last)",
      "\u001b[0;32m<ipython-input-179-9b0bae5880be>\u001b[0m in \u001b[0;36m<module>\u001b[0;34m\u001b[0m\n\u001b[1;32m      4\u001b[0m \u001b[0;31m# Plot non-normalized confusion matrix\u001b[0m\u001b[0;34m\u001b[0m\u001b[0;34m\u001b[0m\u001b[0;34m\u001b[0m\u001b[0m\n\u001b[1;32m      5\u001b[0m plot_confusion_matrix(cnf_matrix, classes=['No injury','Minor Injury','Severe Injury'],\n\u001b[0;32m----> 6\u001b[0;31m                       title='',cmap=plt.cm.twilight);\n\u001b[0m",
      "\u001b[0;32m<ipython-input-178-7a94c3658b6a>\u001b[0m in \u001b[0;36mplot_confusion_matrix\u001b[0;34m(cm, classes, normalize, title, cmap)\u001b[0m\n\u001b[1;32m     16\u001b[0m     \u001b[0mprint\u001b[0m\u001b[0;34m(\u001b[0m\u001b[0mcm\u001b[0m\u001b[0;34m)\u001b[0m\u001b[0;34m\u001b[0m\u001b[0;34m\u001b[0m\u001b[0m\n\u001b[1;32m     17\u001b[0m \u001b[0;34m\u001b[0m\u001b[0m\n\u001b[0;32m---> 18\u001b[0;31m     \u001b[0mplt\u001b[0m\u001b[0;34m.\u001b[0m\u001b[0mimshow\u001b[0m\u001b[0;34m(\u001b[0m\u001b[0mcm\u001b[0m\u001b[0;34m,\u001b[0m \u001b[0minterpolation\u001b[0m\u001b[0;34m=\u001b[0m\u001b[0;34m'nearest'\u001b[0m\u001b[0;34m,\u001b[0m \u001b[0mcmap\u001b[0m\u001b[0;34m=\u001b[0m\u001b[0mcmap\u001b[0m\u001b[0;34m)\u001b[0m\u001b[0;34m\u001b[0m\u001b[0;34m\u001b[0m\u001b[0m\n\u001b[0m\u001b[1;32m     19\u001b[0m \u001b[0;31m#     plt.title(title)\u001b[0m\u001b[0;34m\u001b[0m\u001b[0;34m\u001b[0m\u001b[0;34m\u001b[0m\u001b[0m\n\u001b[1;32m     20\u001b[0m     \u001b[0mplt\u001b[0m\u001b[0;34m.\u001b[0m\u001b[0mcolorbar\u001b[0m\u001b[0;34m(\u001b[0m\u001b[0;34m)\u001b[0m\u001b[0;34m\u001b[0m\u001b[0;34m\u001b[0m\u001b[0m\n",
      "\u001b[0;31mAttributeError\u001b[0m: module 'matplotlib' has no attribute 'imshow'"
     ]
    }
   ],
   "source": [
    "cnf_matrix = confusion_matrix(y_test, vc_preds,labels=[0,1,2])\n",
    "np.set_printoptions(precision=2)\n",
    "\n",
    "# Plot non-normalized confusion matrix\n",
    "plot_confusion_matrix(cnf_matrix, classes=['No injury','Minor Injury','Severe Injury'],\n",
    "                      title='',cmap=plt.cm.twilight);"
   ]
  },
  {
   "cell_type": "code",
   "execution_count": 214,
   "metadata": {},
   "outputs": [],
   "source": [
    "graph_data=result.groupby('INJURY_CLASSIFICATION').apply(lambda x:x.sort_values(by=['INJURY_CLASSIFICATION'],\n",
    "                                                                    ascending=True))"
   ]
  },
  {
   "cell_type": "code",
   "execution_count": 213,
   "metadata": {},
   "outputs": [
    {
     "data": {
      "text/plain": [
       "0.0    394082\n",
       "1.0     14253\n",
       "2.0       194\n",
       "Name: INJURY_CLASSIFICATION, dtype: int64"
      ]
     },
     "execution_count": 213,
     "metadata": {},
     "output_type": "execute_result"
    }
   ],
   "source": [
    "result['INJURY_CLASSIFICATION'].value_counts()"
   ]
  },
  {
   "cell_type": "code",
   "execution_count": 217,
   "metadata": {},
   "outputs": [],
   "source": [
    "graph_data=graph_data[-194: ]"
   ]
  },
  {
   "cell_type": "code",
   "execution_count": null,
   "metadata": {},
   "outputs": [],
   "source": []
  }
 ],
 "metadata": {
  "kernelspec": {
   "display_name": "Python 3",
   "language": "python",
   "name": "python3"
  },
  "language_info": {
   "codemirror_mode": {
    "name": "ipython",
    "version": 3
   },
   "file_extension": ".py",
   "mimetype": "text/x-python",
   "name": "python",
   "nbconvert_exporter": "python",
   "pygments_lexer": "ipython3",
   "version": "3.7.4"
  }
 },
 "nbformat": 4,
 "nbformat_minor": 2
}
